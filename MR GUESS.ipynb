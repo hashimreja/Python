{
 "cells": [
  {
   "cell_type": "code",
   "execution_count": null,
   "metadata": {},
   "outputs": [
    {
     "name": "stdout",
     "output_type": "stream",
     "text": [
      "your number: 98\n",
      "actual num is 9 and you tried 1 times \n",
      "please try again\n",
      "your number: 98\n",
      "actual num is 75 and you tried 2 times \n",
      "please try again\n",
      "your number: 98\n",
      "actual num is 92 and you tried 3 times \n",
      "please try again\n",
      "your number: 98\n",
      "actual num is 80 and you tried 4 times \n",
      "please try again\n",
      "your number: 98\n",
      "actual num is 56 and you tried 5 times \n",
      "please try again\n",
      "your number: 98\n",
      "actual num is 81 and you tried 6 times \n",
      "please try again\n"
     ]
    }
   ],
   "source": [
    "##my random game of guessing\n",
    "'''\n",
    "author: @hashimreja syed\n",
    "email: hashimreja2@gmail.com\n",
    "rules: enter the characters in lower format\n",
    "'''\n",
    "import random\n",
    "mynum = 0\n",
    "mynumber = 0\n",
    "tries = 0\n",
    "select_tries = 0\n",
    "while True:\n",
    "    select_tries = int(input('enter the no of tries you need: '))\n",
    "    if  select_tries  >= 60 :\n",
    "        print('please dont play this game you are a disgrace to your family')\n",
    "    if  select_tries >= 50 :\n",
    "        print('take the whole day bro why are you even trying')\n",
    "    if  select_tries >= 30 :\n",
    "        print('bro u can try better anyways ok')\n",
    "    if select_tries >= 10 :\n",
    "        print('ok your confidence seems little less')\n",
    "    for i in range(select_tries):    \n",
    "        mynumber = int(input('your number: '))\n",
    "        if mynumber > 100 or mynumber < 1: \n",
    "            print('out of range')\n",
    "            break\n",
    "        if mynumber <= 100 or mynumber >= 1:\n",
    "            pass\n",
    "        else:\n",
    "            break\n",
    "        tries += 1\n",
    "        number =  random.randint(1,100)\n",
    "        if mynumber == number:\n",
    "            print('congratulations your number is correct and your tried {} times '.format(tries))\n",
    "            break\n",
    "        else:\n",
    "            print('actual num is {} and you tried {} times '.format(number,tries))\n",
    "            print('please try again')\n",
    "        if tries > select_tries:\n",
    "            print\n",
    "            break\n"
   ]
  },
  {
   "cell_type": "code",
   "execution_count": null,
   "metadata": {},
   "outputs": [],
   "source": []
  },
  {
   "cell_type": "code",
   "execution_count": null,
   "metadata": {},
   "outputs": [],
   "source": []
  }
 ],
 "metadata": {
  "kernelspec": {
   "display_name": "Python 3",
   "language": "python",
   "name": "python3"
  },
  "language_info": {
   "codemirror_mode": {
    "name": "ipython",
    "version": 3
   },
   "file_extension": ".py",
   "mimetype": "text/x-python",
   "name": "python",
   "nbconvert_exporter": "python",
   "pygments_lexer": "ipython3",
   "version": "3.6.5"
  }
 },
 "nbformat": 4,
 "nbformat_minor": 2
}

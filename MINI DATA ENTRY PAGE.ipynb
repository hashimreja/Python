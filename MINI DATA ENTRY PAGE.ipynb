{
 "cells": [
  {
   "cell_type": "code",
   "execution_count": 1,
   "metadata": {},
   "outputs": [
    {
     "name": "stdout",
     "output_type": "stream",
     "text": [
      "welcome to the data filling page\n",
      "enter no entries to be saved: 1\n",
      "enter your name: hash\n",
      "your number: 123\n",
      "enter your email id: hash\n"
     ]
    },
    {
     "data": {
      "text/html": [
       "<div>\n",
       "<style scoped>\n",
       "    .dataframe tbody tr th:only-of-type {\n",
       "        vertical-align: middle;\n",
       "    }\n",
       "\n",
       "    .dataframe tbody tr th {\n",
       "        vertical-align: top;\n",
       "    }\n",
       "\n",
       "    .dataframe thead th {\n",
       "        text-align: right;\n",
       "    }\n",
       "</style>\n",
       "<table border=\"1\" class=\"dataframe\">\n",
       "  <thead>\n",
       "    <tr style=\"text-align: right;\">\n",
       "      <th></th>\n",
       "      <th>names</th>\n",
       "      <th>numbers</th>\n",
       "      <th>email</th>\n",
       "    </tr>\n",
       "  </thead>\n",
       "  <tbody>\n",
       "    <tr>\n",
       "      <th>0</th>\n",
       "      <td>hash</td>\n",
       "      <td>123</td>\n",
       "      <td>hash</td>\n",
       "    </tr>\n",
       "  </tbody>\n",
       "</table>\n",
       "</div>"
      ],
      "text/plain": [
       "  names  numbers email\n",
       "0  hash      123  hash"
      ]
     },
     "execution_count": 1,
     "metadata": {},
     "output_type": "execute_result"
    }
   ],
   "source": [
    "'''\n",
    "welcome to my mini data entry page after entering all your details if you want to save in csv format check the pandas\n",
    "documentation its only one line >>dataset.to_csv('your file name').\n",
    "for more coloumns you can add the additional code.\n",
    "author @hashimreja syed\n",
    "email: hashimreja2@gmail.com\n",
    "'''\n",
    "names = []\n",
    "numbers = []\n",
    "email = []\n",
    "import pandas as pd\n",
    "print('welcome to the data filling page')\n",
    "for i in range(0,int(input('enter no entries to be saved: '))):\n",
    "    name = input('enter your name: ')\n",
    "    names.append(name)\n",
    "    number = input('your number: ')\n",
    "    numbers.append(int(number))\n",
    "    emailid = input('enter your email id: ')\n",
    "    email.append(emailid)\n",
    "    data = {'names':names,'numbers':numbers,'email':email}\n",
    "    dataset = pd.DataFrame(data)\n",
    "dataset"
   ]
  },
  {
   "cell_type": "code",
   "execution_count": null,
   "metadata": {},
   "outputs": [],
   "source": []
  },
  {
   "cell_type": "code",
   "execution_count": null,
   "metadata": {},
   "outputs": [],
   "source": []
  },
  {
   "cell_type": "code",
   "execution_count": null,
   "metadata": {},
   "outputs": [],
   "source": []
  }
 ],
 "metadata": {
  "kernelspec": {
   "display_name": "Python 3",
   "language": "python",
   "name": "python3"
  },
  "language_info": {
   "codemirror_mode": {
    "name": "ipython",
    "version": 3
   },
   "file_extension": ".py",
   "mimetype": "text/x-python",
   "name": "python",
   "nbconvert_exporter": "python",
   "pygments_lexer": "ipython3",
   "version": "3.6.5"
  }
 },
 "nbformat": 4,
 "nbformat_minor": 2
}
